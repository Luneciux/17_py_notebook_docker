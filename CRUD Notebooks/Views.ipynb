{
 "cells": [
  {
   "cell_type": "code",
   "execution_count": 1,
   "id": "3d871800",
   "metadata": {
    "id": "VWTl5xa_fqQi"
   },
   "outputs": [],
   "source": [
    "import ipywidgets as widgets\n",
    "from IPython.display import display\n",
    "from ipywidgets import interact\n",
    "import pandas as pd\n",
    "import psycopg2 as pg\n",
    "import sqlalchemy\n",
    "from sqlalchemy import create_engine\n",
    "import datetime"
   ]
  },
  {
   "cell_type": "markdown",
   "id": "6893bd18",
   "metadata": {
    "id": "_2Ba9N2ofqQo"
   },
   "source": [
    "## Conexão com o banco de dados"
   ]
  },
  {
   "cell_type": "code",
   "execution_count": 2,
   "id": "8201eac6",
   "metadata": {
    "id": "41_t9knVfqQq"
   },
   "outputs": [
    {
     "data": {
      "text/plain": [
       "Engine(postgresql://postgres:***@db:5432/acessiview)"
      ]
     },
     "execution_count": 2,
     "metadata": {},
     "output_type": "execute_result"
    }
   ],
   "source": [
    "cnx = 'postgresql://postgres:postgres@db:5432/acessiview'\n",
    "sqlalchemy.create_engine(cnx)"
   ]
  },
  {
   "cell_type": "code",
   "execution_count": 3,
   "id": "449ded14",
   "metadata": {
    "id": "q0QxEx4qfqQs"
   },
   "outputs": [],
   "source": [
    "con = pg.connect(host='db', dbname= 'acessiview', user='postgres', password= 'postgres')"
   ]
  },
  {
   "cell_type": "markdown",
   "id": "1f6a1a9d",
   "metadata": {
    "id": "FnAU494YfqQs"
   },
   "source": [
    "## Definição da Aplicação\n",
    "\n",
    "Acessiview é uma aplicação simples, onde pessoas com deficiência podem encontrar estabelecimentos que tenham tags específicas que tratem algum tipo de acessibilidade dentro de suas lojas. Por exemplo, uma pessoa que necessita se locomovem com cadeira de rodas e quer ir em um estabelecimento específico, pode verificar se ele existe no sistema e, caso queira, ver se o estabelecimento tem uma tag para cadeirantes como \"Rampas\", ou no caso de um restaurante uma tag como \"banheiros acessíveis para cadeirantes\", essas tags são criadas no sistema, ou sugeridas para criação e as pessoas que forem nos estabelecimentos podem verificar a veracidade das tags que foram adicionadas, dando um like ou comentário como avaliação, logo, outras pessoas que forem usar o aplicativo para encontrar estabelecimentos podem checar a confiabilidade das tags de um estabelecimento pelas avaliações feitas ao mesmo."
   ]
  },
  {
   "cell_type": "markdown",
   "id": "0070e202-9f99-4be3-9204-a5dbc8766166",
   "metadata": {},
   "source": [
    "## CRUDS\n"
   ]
  },
  {
   "cell_type": "markdown",
   "id": "0a564fb8-f07a-4eb0-b385-325b7dc56298",
   "metadata": {},
   "source": [
    "#### VIEWS"
   ]
  },
  {
   "cell_type": "markdown",
   "id": "e114f244-5c47-4be3-b351-4e57826877e5",
   "metadata": {},
   "source": [
    "#### READ\n"
   ]
  },
  {
   "cell_type": "code",
   "execution_count": 12,
   "id": "bbe98260-9d70-4531-8eb0-69ebaa035dbd",
   "metadata": {},
   "outputs": [
    {
     "data": {
      "application/vnd.jupyter.widget-view+json": {
       "model_id": "58a3d894b52a46ecbe3c9534f2159215",
       "version_major": 2,
       "version_minor": 0
      },
      "text/plain": [
       "Output()"
      ]
     },
     "execution_count": 12,
     "metadata": {},
     "output_type": "execute_result"
    }
   ],
   "source": [
    "flag=''\n",
    "\n",
    "input_search = widgets.Text(\n",
    "    value='',\n",
    "    placeholder='Digite um nome',\n",
    "    disabled=False\n",
    ")\n",
    "\n",
    "button_view1 = widgets.Button(description=\"Quantidade de Av/Est.\", value='')\n",
    "button_view2 = widgets.Button(description=\"Avaliação Total dos Est.\", value='')\n",
    "button_view3 = widgets.Button(description=\"Est. com Rampas\", value='')\n",
    "button_view4 = widgets.Button(description=\"Est. com Banheiros Adp.\", value='')\n",
    "button_view5 = widgets.Button(description=\"Est. com Libras\", value='')\n",
    "button_view6 = widgets.Button(description=\"Est. com Cardápios com Pictogramas\", value='')\n",
    "button_view7 = widgets.Button(description=\"Est. com Braille\", value='')\n",
    "button_view8 = widgets.Button(description=\"Nível de Satisfação dos Clientes\", value='')\n",
    "button_view9 = widgets.Button(description=\"Localização do Estabelecimento\", value='')\n",
    "button_view10 = widgets.Button(description=\"Avaliações Positivas\", value='')\n",
    "button_view11 = widgets.Button(description=\"Avaliações Negativas\", value='')\n",
    "\n",
    "def quantidade_av_por_estabelecimento(b):\n",
    "    query = ''\n",
    "    input_text = input_search.value\n",
    "    \n",
    "    try:\n",
    "        query = f\"select * from qtd_avaliacoes_estabelecimento_X\"\n",
    "            \n",
    "        df = pd.read_sql_query(query, cnx)\n",
    "        display(input_search, button_view1, button_view2, button_view3, button_view4, button_view5, button_view6, button_view7, button_view8, button_view9, button_view10, df)\n",
    "        \n",
    "    except:        \n",
    "        display(input_search, button_view1, button_view2, button_view3, button_view4, button_view5, button_view6, button_view7, button_view8, button_view9, button_view10) \n",
    "        display(\"Não foi possível realizar a consulta.\")\n",
    "        \n",
    "def av_total(b):\n",
    "    query = ''\n",
    "    input_text = input_search.value\n",
    "    \n",
    "    try:\n",
    "        query = f\"select * from avaliacao_total_estabelecimento_X\"\n",
    "            \n",
    "        df = pd.read_sql_query(query, cnx)\n",
    "        display(input_search, button_view1, button_view2, button_view3, button_view4, button_view5, button_view6, button_view7, button_view8, button_view9, button_view10, df)\n",
    "        \n",
    "    except:        \n",
    "        display(input_search, button_view1, button_view2, button_view3, button_view4, button_view5, button_view6, button_view7, button_view8, button_view9, button_view10) \n",
    "        display(\"Não foi possível realizar a consulta.\")\n",
    "        \n",
    "def estabelecimentos_rampa(b):\n",
    "    query = ''\n",
    "    input_text = input_search.value\n",
    "    \n",
    "    try:\n",
    "        query = f\"select * from estabelecimento_x_tem_rampas\"\n",
    "            \n",
    "        df = pd.read_sql_query(query, cnx)\n",
    "        display(input_search, button_view1, button_view2, button_view3, button_view4, button_view5, button_view6, button_view7, button_view8, button_view9, button_view10, df)\n",
    "        \n",
    "    except:        \n",
    "        display(input_search, button_view1, button_view2, button_view3, button_view4, button_view5, button_view6, button_view7, button_view8, button_view9, button_view10) \n",
    "        display(\"Não foi possível realizar a consulta.\")\n",
    "        \n",
    "def estabelecimentos_banheiro_adap(b):\n",
    "    query = ''\n",
    "    input_text = input_search.value\n",
    "    \n",
    "    try:\n",
    "        query = f\"select * from estabelecimento_x_tem_banheiros_adaptados_para_cadeirantes\"\n",
    "            \n",
    "        df = pd.read_sql_query(query, cnx)\n",
    "        display(input_search, button_view1, button_view2, button_view3, button_view4, button_view5, button_view6, button_view7, button_view8, button_view9, button_view10, df)\n",
    "        \n",
    "    except:        \n",
    "        display(input_search, button_view1, button_view2, button_view3, button_view4, button_view5, button_view6, button_view7, button_view8, button_view9, button_view10) \n",
    "        display(\"Não foi possível realizar a consulta.\")\n",
    "        \n",
    "def estabelecimentos_prof_libra(b):\n",
    "    query = ''\n",
    "    input_text = input_search.value\n",
    "    \n",
    "    try:\n",
    "        query = f\"select * from estabelecimento_x_tem_profissionais_treinados_em_libras\"\n",
    "            \n",
    "        df = pd.read_sql_query(query, cnx)\n",
    "        display(input_search, button_view1, button_view2, button_view3, button_view4, button_view5, button_view6, button_view7, button_view8, button_view9, button_view10, df)\n",
    "        \n",
    "    except:        \n",
    "        display(input_search, button_view1, button_view2, button_view3, button_view4, button_view5, button_view6, button_view7, button_view8, button_view9, button_view10) \n",
    "        display(\"Não foi possível realizar a consulta.\")\n",
    "        \n",
    "def estabelecimentos_card_pictograma(b):\n",
    "    query = ''\n",
    "    input_text = input_search.value\n",
    "    \n",
    "    try:\n",
    "        query = f\"select * from estabelecimento_x_tem_cardapios_com_pictogramas\"\n",
    "            \n",
    "        df = pd.read_sql_query(query, cnx)\n",
    "        display(input_search, button_view1, button_view2, button_view3, button_view4, button_view5, button_view6, button_view7, button_view8, button_view9, button_view10, df)\n",
    "        \n",
    "    except:        \n",
    "        display(input_search, button_view1, button_view2, button_view3, button_view4, button_view5, button_view6, button_view7, button_view8, button_view9, button_view10) \n",
    "        display(\"Não foi possível realizar a consulta.\")\n",
    "        \n",
    "def estabelecimentos_braille(b):\n",
    "    query = ''\n",
    "    input_text = input_search.value\n",
    "    \n",
    "    try:\n",
    "        query = f\"select * from estabelecimento_x_tem_transcrita_em_braile\"\n",
    "            \n",
    "        df = pd.read_sql_query(query, cnx)\n",
    "        display(input_search, button_view1, button_view2, button_view3, button_view4, button_view5, button_view6, button_view7, button_view8, button_view9, button_view10, df)\n",
    "        \n",
    "    except:        \n",
    "        display(input_search, button_view1, button_view2, button_view3, button_view4, button_view5, button_view6, button_view7, button_view8, button_view9, button_view10) \n",
    "        display(\"Não foi possível realizar a consulta.\")\n",
    "        \n",
    "def estabelecimentos_nv_satsf(b):\n",
    "    query = ''\n",
    "    input_text = input_search.value\n",
    "    \n",
    "    try:\n",
    "        query = f\"select * from nivel_de_satisfacao_dos_clientes_do_estabelecimento_x\"\n",
    "            \n",
    "        df = pd.read_sql_query(query, cnx)\n",
    "        display(input_search, button_view1, button_view2, button_view3, button_view4, button_view5, button_view6, button_view7, button_view8, button_view9, button_view10, df)\n",
    "        \n",
    "    except:        \n",
    "        display(input_search, button_view1, button_view2, button_view3, button_view4, button_view5, button_view6, button_view7, button_view8, button_view9, button_view10) \n",
    "        display(\"Não foi possível realizar a consulta.\")\n",
    "        \n",
    "def estabelecimentos_local(b):\n",
    "    query = ''\n",
    "    input_text = input_search.value\n",
    "    \n",
    "    try:\n",
    "        query = f\"select * from localizacao_estabelcimento_X\"\n",
    "            \n",
    "        df = pd.read_sql_query(query, cnx)\n",
    "        display(input_search, button_view1, button_view2, button_view3, button_view4, button_view5, button_view6, button_view7, button_view8, button_view9, button_view10, df)\n",
    "        \n",
    "    except:        \n",
    "        display(input_search, button_view1, button_view2, button_view3, button_view4, button_view5, button_view6, button_view7, button_view8, button_view9, button_view10) \n",
    "        display(\"Não foi possível realizar a consulta.\")\n",
    "        \n",
    "def estabelecimentos_av_pos(b):\n",
    "    query = ''\n",
    "    input_text = input_search.value\n",
    "    \n",
    "    try:\n",
    "        query = f\"select * from qtd_avaliacoes_positivas_estabelecimento_X\"\n",
    "            \n",
    "        df = pd.read_sql_query(query, cnx)\n",
    "        display(input_search, button_view1, button_view2, button_view3, button_view4, button_view5, button_view6, button_view7, button_view8, button_view9, button_view10, df)\n",
    "        \n",
    "    except:        \n",
    "        display(input_search, button_view1, button_view2, button_view3, button_view4, button_view5, button_view6, button_view7, button_view8, button_view9, button_view10) \n",
    "        display(\"Não foi possível realizar a consulta.\")\n",
    "        \n",
    "def estabelecimentos_av_neg(b):\n",
    "    query = ''\n",
    "    input_text = input_search.value\n",
    "    \n",
    "    try:\n",
    "        query = f\"select * from qtd_avaliacoes_negativas_estabelecimento_X\"\n",
    "            \n",
    "        df = pd.read_sql_query(query, cnx)\n",
    "        display(input_search, button_view1, button_view2, button_view3, button_view4, button_view5, button_view6, button_view7, button_view8, button_view9, button_view10, df)\n",
    "        \n",
    "    except:        \n",
    "        display(input_search, button_view1, button_view2, button_view3, button_view4, button_view5, button_view6, button_view7, button_view8, button_view9, button_view10) \n",
    "        display(\"Não foi possível realizar a consulta.\")\n",
    "        \n",
    "button_view1.on_click(quantidade_av_por_estabelecimento)\n",
    "button_view2.on_click(av_total)\n",
    "button_view3.on_click(estabelecimentos_rampa)\n",
    "button_view4.on_click(estabelecimentos_banheiro_adap)\n",
    "button_view5.on_click(estabelecimentos_prof_libra)\n",
    "button_view6.on_click(estabelecimentos_card_pictograma)\n",
    "button_view7.on_click(estabelecimentos_braille)\n",
    "button_view8.on_click(estabelecimentos_nv_satsf)\n",
    "button_view9.on_click(estabelecimentos_local)\n",
    "button_view10.on_click(estabelecimentos_av_pos)\n",
    "button_view11.on_click(estabelecimentos_av_neg)\n",
    "\n",
    "output = widgets.Output()\n",
    "\n",
    "with output:\n",
    "    output.clear_output()\n",
    "    display(input_search, button_view1, button_view2, button_view3, button_view4, button_view5, button_view6, button_view7, button_view8, button_view9, button_view10) \n",
    "\n",
    "output\n",
    "\n",
    "        \n",
    "        "
   ]
  },
  {
   "cell_type": "code",
   "execution_count": null,
   "id": "b3cf4995-c5c3-42f2-b6a4-41fad36dcb79",
   "metadata": {},
   "outputs": [],
   "source": []
  }
 ],
 "metadata": {
  "colab": {
   "collapsed_sections": [],
   "name": "CRUD-Funcionario.ipynb",
   "provenance": []
  },
  "kernelspec": {
   "display_name": "Python 3 (ipykernel)",
   "language": "python",
   "name": "python3"
  },
  "language_info": {
   "codemirror_mode": {
    "name": "ipython",
    "version": 3
   },
   "file_extension": ".py",
   "mimetype": "text/x-python",
   "name": "python",
   "nbconvert_exporter": "python",
   "pygments_lexer": "ipython3",
   "version": "3.10.8"
  }
 },
 "nbformat": 4,
 "nbformat_minor": 5
}
