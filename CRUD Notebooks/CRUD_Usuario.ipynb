{
 "cells": [
  {
   "cell_type": "code",
   "execution_count": 36,
   "id": "3d871800",
   "metadata": {
    "id": "VWTl5xa_fqQi"
   },
   "outputs": [],
   "source": [
    "import ipywidgets as widgets\n",
    "from IPython.display import display\n",
    "from ipywidgets import interact\n",
    "import pandas as pd\n",
    "import psycopg2 as pg\n",
    "import sqlalchemy\n",
    "from sqlalchemy import create_engine\n",
    "import datetime"
   ]
  },
  {
   "cell_type": "markdown",
   "id": "6893bd18",
   "metadata": {
    "id": "_2Ba9N2ofqQo"
   },
   "source": [
    "## Conexão com o banco de dados"
   ]
  },
  {
   "cell_type": "code",
   "execution_count": 37,
   "id": "8201eac6",
   "metadata": {
    "id": "41_t9knVfqQq"
   },
   "outputs": [
    {
     "data": {
      "text/plain": [
       "Engine(postgresql://postgres:***@db:5432/acessiview)"
      ]
     },
     "execution_count": 37,
     "metadata": {},
     "output_type": "execute_result"
    }
   ],
   "source": [
    "cnx = 'postgresql://postgres:postgres@db:5432/acessiview'\n",
    "sqlalchemy.create_engine(cnx)"
   ]
  },
  {
   "cell_type": "code",
   "execution_count": 38,
   "id": "449ded14",
   "metadata": {
    "id": "q0QxEx4qfqQs"
   },
   "outputs": [],
   "source": [
    "con = pg.connect(host='db', dbname= 'acessiview', user='postgres', password= 'postgres')"
   ]
  },
  {
   "cell_type": "markdown",
   "id": "1f6a1a9d",
   "metadata": {
    "id": "FnAU494YfqQs"
   },
   "source": [
    "## Definição da Aplicação\n",
    "\n",
    "Acessiview é uma aplicação simples, onde pessoas com deficiência podem encontrar estabelecimentos que tenham tags específicas que tratem algum tipo de acessibilidade dentro de suas lojas. Por exemplo, uma pessoa que necessita se locomovem com cadeira de rodas e quer ir em um estabelecimento específico, pode verificar se ele existe no sistema e, caso queira, ver se o estabelecimento tem uma tag para cadeirantes como \"Rampas\", ou no caso de um restaurante uma tag como \"banheiros acessíveis para cadeirantes\", essas tags são criadas no sistema, ou sugeridas para criação e as pessoas que forem nos estabelecimentos podem verificar a veracidade das tags que foram adicionadas, dando um like ou comentário como avaliação, logo, outras pessoas que forem usar o aplicativo para encontrar estabelecimentos podem checar a confiabilidade das tags de um estabelecimento pelas avaliações feitas ao mesmo."
   ]
  },
  {
   "cell_type": "markdown",
   "id": "0070e202-9f99-4be3-9204-a5dbc8766166",
   "metadata": {},
   "source": [
    "## CRUDS\n"
   ]
  },
  {
   "cell_type": "markdown",
   "id": "0a564fb8-f07a-4eb0-b385-325b7dc56298",
   "metadata": {},
   "source": [
    "#### USUÁRIOS"
   ]
  },
  {
   "cell_type": "markdown",
   "id": "e114f244-5c47-4be3-b351-4e57826877e5",
   "metadata": {},
   "source": [
    "#### READ\n"
   ]
  },
  {
   "cell_type": "code",
   "execution_count": 39,
   "id": "bbe98260-9d70-4531-8eb0-69ebaa035dbd",
   "metadata": {},
   "outputs": [
    {
     "data": {
      "application/vnd.jupyter.widget-view+json": {
       "model_id": "cfb267a119074f33b1cb31e973ad0871",
       "version_major": 2,
       "version_minor": 0
      },
      "text/plain": [
       "Output()"
      ]
     },
     "execution_count": 39,
     "metadata": {},
     "output_type": "execute_result"
    }
   ],
   "source": [
    "flag=''\n",
    "\n",
    "input_search = widgets.Text(\n",
    "    value='',\n",
    "    placeholder='Digite um nome',\n",
    "    disabled=False\n",
    ")\n",
    "\n",
    "button_search = widgets.Button(description=\"Search\", value='')\n",
    "\n",
    "def on_button_clicked_query(b):\n",
    "    query = ''\n",
    "    input_text = input_search.value\n",
    "    \n",
    "    try:\n",
    "        if(input_search.value == ''):   \n",
    "            query = f\"select * from usuario\"\n",
    "        else:\n",
    "            query = f\"select * from usuario where nome='{input_text}'\"\n",
    "            \n",
    "        df = pd.read_sql_query(query, cnx)\n",
    "        display(input_search, button_search, df)\n",
    "        \n",
    "    except:        \n",
    "        display(input_search, button_search)    \n",
    "        display(\"Não foi possível realizar a consulta.\")\n",
    "        \n",
    "button_search.on_click(on_button_clicked_query)\n",
    "\n",
    "output = widgets.Output()\n",
    "\n",
    "with output:\n",
    "    output.clear_output()\n",
    "    display(input_search, button_search)\n",
    "\n",
    "output\n",
    "\n",
    "        \n",
    "        "
   ]
  },
  {
   "cell_type": "markdown",
   "id": "a8400d89-052d-427e-b60e-efdfc2dcb256",
   "metadata": {},
   "source": [
    "#### ACTIONS"
   ]
  },
  {
   "cell_type": "code",
   "execution_count": 45,
   "id": "5ad28b09-58a3-4d83-8d91-273348d3beb2",
   "metadata": {},
   "outputs": [
    {
     "data": {
      "application/vnd.jupyter.widget-view+json": {
       "model_id": "10650f9269a8490581204ff6e617b376",
       "version_major": 2,
       "version_minor": 0
      },
      "text/plain": [
       "Output()"
      ]
     },
     "execution_count": 46,
     "metadata": {},
     "output_type": "execute_result"
    }
   ],
   "source": [
    "#CAMPOS DO USUÁRIO\n",
    "cod = widgets.IntText(\n",
    "    value = 0,\n",
    "    description='Cod: ',\n",
    "    disabled=False\n",
    ")\n",
    "\n",
    "nome = widgets.Text(\n",
    "    value='',\n",
    "    placeholder='Digite seu nome',\n",
    "    description='Nome: ',\n",
    "    disabled=False\n",
    ")\n",
    "\n",
    "qtd_comentarios = widgets.IntText(\n",
    "    value = 0,\n",
    "    description='Qtd. Comentários: ',\n",
    "    disabled=True\n",
    ")\n",
    "\n",
    "dt_criacao = datetime.date.today().strftime(\"%d-%m-%Y\")\n",
    "\n",
    "foto = widgets.Text(\n",
    "    value='URL',\n",
    "    description='Foto: ',\n",
    "    disabled=False\n",
    ")\n",
    "\n",
    "qtd_avaliacoes = widgets.IntText(\n",
    "    value = 0,\n",
    "    description='Qtd. Avaliações: ',\n",
    "    disabled=True\n",
    ")\n",
    "\n",
    "data_nasc = widgets.DatePicker(\n",
    "    description='Data de Nascimento:',\n",
    "    disabled=False\n",
    ")\n",
    "\n",
    "button_insert = widgets.Button(description=\"Inserir\", value='')\n",
    "button_update = widgets.Button(description=\"Update\", value='')\n",
    "button_delete = widgets.Button(description=\"Delete\", value='')\n",
    "\n",
    "def on_button_clicked_insert(b):\n",
    "    try:\n",
    "        cursor = con.cursor()\n",
    "        convert_date = data_nasc.value\n",
    "        cursor.execute(\"insert into public.usuario(nome, qtd_comentarios, dt_criacao, foto, qtd_avaliacoes, dt_nasc) values (%s, %s, %s, %s, %s, %s)\", (nome.value, qtd_comentarios.value, dt_criacao, foto.value, qtd_avaliacoes.value, convert_date.strftime(\"%d-%m-%Y\")))\n",
    "                              \n",
    "        cursor.query\n",
    "        con.commit()\n",
    "        df = pd.read_sql(\"select * from usuario\", cnx)\n",
    "        display(cod, nome, qtd_comentarios, foto, qtd_avaliacoes, data_nasc, df)\n",
    "        display(button_insert, button_update, button_delete)\n",
    "\n",
    "    except:\n",
    "        cursor.execute(\"ROLLBACK\")   \n",
    "        display(cod, nome, qtd_comentarios, foto, qtd_avaliacoes, data_nasc)\n",
    "        display(button_insert, button_update, button_delete)\n",
    "        display(\"Não foi possível realizar a inserção. Verifique restrições.\")\n",
    "        \n",
    "    finally:\n",
    "        cursor.close()\n",
    "        \n",
    "        \n",
    "def on_button_clicked_update(b):\n",
    "    try:\n",
    "        cursor= con.cursor()\n",
    "        cursor.execute(\"update public.usuario (nome, foto, dt_nasc) set (nome=%s, foto=%s, dt_nasc=%s) where cod=%s\", (nome.value, foto.value, convert_date.strftime(\"%d-%m-%Y\"), cod.value))\n",
    "        \n",
    "        cursor.query\n",
    "        con.commit()\n",
    "        \n",
    "        df = pd.read_sql(\"select * from usuario\", cnx)\n",
    "        display(cod, nome, qtd_comentarios, foto, qtd_avaliacoes, data_nasc, df)\n",
    "        display(button_insert, button_update, button_delete)\n",
    "    except:\n",
    "        cursor.execute(\"ROLLBACK\")   \n",
    "        display(cod, nome, qtd_comentarios, foto, qtd_avaliacoes, data_nasc)\n",
    "        display(button_insert, button_update, button_delete)\n",
    "        display(\"Não foi possível realizar a atualização. Verifique restrições.\")\n",
    "            \n",
    "    finally:\n",
    "        cursor.close()\n",
    "        \n",
    "        \n",
    "def on_button_clicked_delete(b):\n",
    "    try:\n",
    "        print(nome.value)\n",
    "        cursor= con.cursor()\n",
    "        cursor.execute(\"delete from public.usuario where nome=%s\", (nome.value,))\n",
    "        rows_deleted = cursor.rowcount\n",
    "        con.commit()\n",
    "        df = pd.read_sql(\"select * from usuario\", cnx)\n",
    "        display(cod, nome, qtd_comentarios, foto, qtd_avaliacoes, data_nasc, df)\n",
    "        display(button_insert, button_update, button_delete)\n",
    "    except:\n",
    "        cursor.execute(\"ROLLBACK\")   \n",
    "        display(cod, nome, qtd_comentarios, foto, qtd_avaliacoes, data_nasc)\n",
    "        display(button_insert, button_update, button_delete)\n",
    "        display(\"Não foi possível realizar a deleção. Verifique restrições.\")\n",
    "            \n",
    "    finally:\n",
    "        cursor.close()\n",
    "        \n",
    "button_insert.on_click(on_button_clicked_insert)\n",
    "button_update.on_click(on_button_clicked_update)\n",
    "button_delete.on_click(on_button_clicked_delete)\n",
    "\n",
    "output = widgets.Output()\n",
    "\n",
    "with output:\n",
    "    output.clear_output()\n",
    "    display(cod, nome, qtd_comentarios, foto, qtd_avaliacoes, data_nasc)\n",
    "    display(button_insert, button_update, button_delete)\n",
    "    \n",
    "\n",
    "\n",
    "output"
   ]
  },
  {
   "cell_type": "code",
   "execution_count": null,
   "id": "a576533f-c8b7-42f3-9f6d-f6fde9c174b4",
   "metadata": {},
   "outputs": [],
   "source": []
  }
 ],
 "metadata": {
  "colab": {
   "collapsed_sections": [],
   "name": "CRUD-Funcionario.ipynb",
   "provenance": []
  },
  "kernelspec": {
   "display_name": "Python 3 (ipykernel)",
   "language": "python",
   "name": "python3"
  },
  "language_info": {
   "codemirror_mode": {
    "name": "ipython",
    "version": 3
   },
   "file_extension": ".py",
   "mimetype": "text/x-python",
   "name": "python",
   "nbconvert_exporter": "python",
   "pygments_lexer": "ipython3",
   "version": "3.10.8"
  }
 },
 "nbformat": 4,
 "nbformat_minor": 5
}
